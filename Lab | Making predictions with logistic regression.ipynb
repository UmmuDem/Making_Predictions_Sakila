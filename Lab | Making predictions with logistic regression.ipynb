{
 "cells": [
  {
   "cell_type": "markdown",
   "id": "7ac9edc2",
   "metadata": {
    "toc": true
   },
   "source": [
    "<h1>Table of Contents<span class=\"tocSkip\"></span></h1>\n",
    "<div class=\"toc\"><ul class=\"toc-item\"><li><span><a href=\"#Making-predictions-with-logistic-regression\" data-toc-modified-id=\"Making-predictions-with-logistic-regression-1\"><span class=\"toc-item-num\">1&nbsp;&nbsp;</span>Making predictions with logistic regression</a></span><ul class=\"toc-item\"><li><span><a href=\"#Creating-a-query\" data-toc-modified-id=\"Creating-a-query-1.1\"><span class=\"toc-item-num\">1.1&nbsp;&nbsp;</span>Creating a query</a></span></li><li><span><a href=\"#Reading-the-data-into-a-Pandas-dataframe\" data-toc-modified-id=\"Reading-the-data-into-a-Pandas-dataframe-1.2\"><span class=\"toc-item-num\">1.2&nbsp;&nbsp;</span>Reading the data into a Pandas dataframe</a></span></li><li><span><a href=\"#Analyze-extracted-features\" data-toc-modified-id=\"Analyze-extracted-features-1.3\"><span class=\"toc-item-num\">1.3&nbsp;&nbsp;</span>Analyze extracted features</a></span><ul class=\"toc-item\"><li><span><a href=\"#Preprocessing-numerical-columns\" data-toc-modified-id=\"Preprocessing-numerical-columns-1.3.1\"><span class=\"toc-item-num\">1.3.1&nbsp;&nbsp;</span>Preprocessing numerical columns</a></span></li><li><span><a href=\"#Preprocessing-categorical-columns\" data-toc-modified-id=\"Preprocessing-categorical-columns-1.3.2\"><span class=\"toc-item-num\">1.3.2&nbsp;&nbsp;</span>Preprocessing categorical columns</a></span></li></ul></li></ul></li></ul></div>"
   ]
  },
  {
   "cell_type": "markdown",
   "id": "3f043621",
   "metadata": {},
   "source": [
    "# Making predictions with logistic regression"
   ]
  },
  {
   "cell_type": "code",
   "execution_count": null,
   "id": "d5d9883d",
   "metadata": {},
   "outputs": [],
   "source": [
    "import pymysql\n",
    "from sqlalchemy import create_engine\n",
    "import pandas as pd\n",
    "import getpass    # get the password without it being visible\n",
    "password = getpass.getpass()"
   ]
  },
  {
   "cell_type": "code",
   "execution_count": null,
   "id": "b75b9a46",
   "metadata": {},
   "outputs": [],
   "source": [
    "\n",
    "connection_string = 'mysql+pymysql://root:' + password + '@localhost/sakila' \n",
    "engine = create_engine(connection_string)"
   ]
  },
  {
   "cell_type": "markdown",
   "id": "f84dce08",
   "metadata": {},
   "source": [
    "## Creating a query"
   ]
  },
  {
   "cell_type": "markdown",
   "id": "05aa1820",
   "metadata": {},
   "source": [
    "I created a query which joins tables film,language,rental,payment,category and inventory. The latest is used kind of bridge table. I am interested with the columns name from category table,title, rental_rate, rating and length from rental table. Moreover, by using other joined tables, I created four other columns that could be relevant, first of them is named as noofrenting which means how many times that film is rented so far; second of them is called as last_rental which collects the last rental_date by title; third gives the average rental cost and the last one is average rental cost. "
   ]
  },
  {
   "cell_type": "code",
   "execution_count": null,
   "id": "7e74347b",
   "metadata": {},
   "outputs": [],
   "source": [
    "query = \"\"\" \n",
    "select ca.name as category,title,rental_duration,rating, length,count(distinct rental_id) as noofrenting, \n",
    "max(rental_date) as last_rental,\n",
    "round(avg(timestampdiff(hour,rental_date,return_date))) as avg_rental_hour, \n",
    "round(avg(p.amount),2) as avg_rent_cost\n",
    "from film \n",
    "join inventory using(film_id)\n",
    "join rental using(inventory_id)\n",
    "join payment p using(rental_id)\n",
    "join film_category  using(film_id)\n",
    "join category ca using(category_id)\n",
    "group by title, category, rating,length, rental_duration;\n",
    "\"\"\""
   ]
  },
  {
   "cell_type": "markdown",
   "id": "622f7308",
   "metadata": {},
   "source": [
    "## Reading the data into a Pandas dataframe"
   ]
  },
  {
   "cell_type": "markdown",
   "id": "37602dc4",
   "metadata": {},
   "source": [
    "In this section, the above query is read by using Pandas to obtain a dataframe, then try to understand its nature."
   ]
  },
  {
   "cell_type": "code",
   "execution_count": null,
   "id": "54e95231",
   "metadata": {},
   "outputs": [],
   "source": [
    "data = pd.read_sql_query(query,engine)"
   ]
  },
  {
   "cell_type": "code",
   "execution_count": null,
   "id": "9ca4ba74",
   "metadata": {},
   "outputs": [],
   "source": [
    "data.head()"
   ]
  },
  {
   "cell_type": "code",
   "execution_count": null,
   "id": "a2ab8c1c",
   "metadata": {},
   "outputs": [],
   "source": [
    "data.isna().sum()   # We don't have any nulls. "
   ]
  },
  {
   "cell_type": "code",
   "execution_count": null,
   "id": "1b6a0408",
   "metadata": {},
   "outputs": [],
   "source": [
    "data.shape"
   ]
  },
  {
   "cell_type": "code",
   "execution_count": null,
   "id": "0d81ea85",
   "metadata": {},
   "outputs": [],
   "source": [
    "data.info()"
   ]
  },
  {
   "cell_type": "markdown",
   "id": "138f7669",
   "metadata": {},
   "source": [
    "## Analyze extracted features"
   ]
  },
  {
   "cell_type": "markdown",
   "id": "a75b1533",
   "metadata": {},
   "source": [
    "### Preprocessing numerical columns"
   ]
  },
  {
   "cell_type": "code",
   "execution_count": null,
   "id": "3b69c56b",
   "metadata": {},
   "outputs": [],
   "source": [
    "import matplotlib.pyplot as plt\n",
    "import seaborn as sns\n",
    "import numpy as np"
   ]
  },
  {
   "cell_type": "code",
   "execution_count": null,
   "id": "c8518420",
   "metadata": {},
   "outputs": [],
   "source": [
    "corr_matrix = data.corr()"
   ]
  },
  {
   "cell_type": "code",
   "execution_count": null,
   "id": "3f03558c",
   "metadata": {},
   "outputs": [],
   "source": [
    "fig, ax = plt.subplots(figsize=(10,8))\n",
    "sns.heatmap(corr_matrix,\n",
    "           cmap='seismic',\n",
    "           center=0,\n",
    "           annot=True,\n",
    "           );"
   ]
  },
  {
   "cell_type": "code",
   "execution_count": null,
   "id": "0abc9e47",
   "metadata": {},
   "outputs": [],
   "source": [
    "X_num = data.select_dtypes(include = np.number)"
   ]
  },
  {
   "cell_type": "markdown",
   "id": "42c0bf37",
   "metadata": {},
   "source": [
    "**Before any preprocessing**"
   ]
  },
  {
   "cell_type": "code",
   "execution_count": null,
   "id": "a8bc43e4",
   "metadata": {},
   "outputs": [],
   "source": [
    "from pandas.plotting import scatter_matrix\n",
    "scatter_matrix(X_num,alpha=0.2,figsize=(6,6),diagonal='kde');   # not that bad, some of them seems normally distributed"
   ]
  },
  {
   "cell_type": "markdown",
   "id": "4900fafe",
   "metadata": {},
   "source": [
    "**Normalizer() is applied**"
   ]
  },
  {
   "cell_type": "code",
   "execution_count": null,
   "id": "dabcb54e",
   "metadata": {},
   "outputs": [],
   "source": [
    "from sklearn.preprocessing import Normalizer\n",
    "transformer = Normalizer().fit(X_num)\n",
    "X_normalized= transformer.transform(X_num)"
   ]
  },
  {
   "cell_type": "code",
   "execution_count": null,
   "id": "a9aec1d6",
   "metadata": {},
   "outputs": [],
   "source": [
    "X_normalized"
   ]
  },
  {
   "cell_type": "code",
   "execution_count": null,
   "id": "8d2e36a3",
   "metadata": {},
   "outputs": [],
   "source": [
    "X_norm=pd.DataFrame(X_normalized, columns = X_num.columns)\n",
    "scatter_matrix(X_norm,alpha=0.2,figsize=(12,12),diagonal='kde');"
   ]
  },
  {
   "cell_type": "markdown",
   "id": "3326f32b",
   "metadata": {},
   "source": [
    "**Here, StandardScaler() is applied. Then I decided to go with the result of Normalizer(). Because with StandardSacaler, some of them is better, for example, noofrenting and avg_rental_hour, however others are really worse than Normalized() versions.** "
   ]
  },
  {
   "cell_type": "code",
   "execution_count": null,
   "id": "8f156c29",
   "metadata": {},
   "outputs": [],
   "source": [
    "from sklearn.preprocessing import StandardScaler\n",
    "transformer = StandardScaler().fit(X_num)\n",
    "X_standardised= transformer.transform(X_num)"
   ]
  },
  {
   "cell_type": "code",
   "execution_count": null,
   "id": "539cffd4",
   "metadata": {},
   "outputs": [],
   "source": [
    "X_std=pd.DataFrame(X_standardised, columns= X_num.columns)\n",
    "scatter_matrix(X_std,alpha=0.2,figsize=(6,6),diagonal='kde');"
   ]
  },
  {
   "cell_type": "markdown",
   "id": "26bf3d4b",
   "metadata": {},
   "source": [
    "### Preprocessing categorical columns"
   ]
  },
  {
   "cell_type": "code",
   "execution_count": null,
   "id": "8ca54540",
   "metadata": {},
   "outputs": [],
   "source": [
    "X_cat = data.select_dtypes(include = np.object)"
   ]
  },
  {
   "cell_type": "code",
   "execution_count": null,
   "id": "eee252d0",
   "metadata": {},
   "outputs": [],
   "source": [
    "X_cat.head()"
   ]
  },
  {
   "cell_type": "code",
   "execution_count": null,
   "id": "d88980ea",
   "metadata": {},
   "outputs": [],
   "source": [
    "X_cat = X_cat.drop(['title'],axis=1)   # title seems as a categorical column but actually it is irrelevant."
   ]
  },
  {
   "cell_type": "code",
   "execution_count": null,
   "id": "c14bfe8a",
   "metadata": {},
   "outputs": [],
   "source": [
    "X_cat = pd.get_dummies(X_cat,\n",
    "               drop_first=True,\n",
    "               columns=X_cat.columns)\n",
    "X_cat"
   ]
  },
  {
   "cell_type": "code",
   "execution_count": null,
   "id": "11d9ab00",
   "metadata": {},
   "outputs": [],
   "source": []
  },
  {
   "cell_type": "code",
   "execution_count": null,
   "id": "81186e15",
   "metadata": {},
   "outputs": [],
   "source": []
  },
  {
   "cell_type": "code",
   "execution_count": null,
   "id": "543a1a5c",
   "metadata": {},
   "outputs": [],
   "source": []
  },
  {
   "cell_type": "code",
   "execution_count": null,
   "id": "69f43a6a",
   "metadata": {},
   "outputs": [],
   "source": []
  },
  {
   "cell_type": "code",
   "execution_count": null,
   "id": "8f356cb1",
   "metadata": {},
   "outputs": [],
   "source": []
  },
  {
   "cell_type": "code",
   "execution_count": 1,
   "id": "04f3b19d",
   "metadata": {},
   "outputs": [],
   "source": [
    "query_last_month = \"\"\"\n",
    "select title,\n",
    "sum(case when rental_date like '2006-02%' then 1 else 0 end) as last_month_activity from film \n",
    "join inventory using(film_id)\n",
    "join rental using(inventory_id)\n",
    "group by title;\n",
    "\"\"\""
   ]
  },
  {
   "cell_type": "code",
   "execution_count": 2,
   "id": "0481fa6d",
   "metadata": {},
   "outputs": [
    {
     "ename": "NameError",
     "evalue": "name 'pd' is not defined",
     "output_type": "error",
     "traceback": [
      "\u001b[0;31m---------------------------------------------------------------------------\u001b[0m",
      "\u001b[0;31mNameError\u001b[0m                                 Traceback (most recent call last)",
      "\u001b[0;32m/var/folders/3m/b1x35fxn7hgf_dq414qzm96w0000gn/T/ipykernel_52547/1763325730.py\u001b[0m in \u001b[0;36m<module>\u001b[0;34m\u001b[0m\n\u001b[0;32m----> 1\u001b[0;31m \u001b[0mdata\u001b[0m \u001b[0;34m=\u001b[0m \u001b[0mpd\u001b[0m\u001b[0;34m.\u001b[0m\u001b[0mread_sql_query\u001b[0m\u001b[0;34m(\u001b[0m\u001b[0mquery_last_month\u001b[0m\u001b[0;34m,\u001b[0m\u001b[0mengine\u001b[0m\u001b[0;34m)\u001b[0m\u001b[0;34m\u001b[0m\u001b[0;34m\u001b[0m\u001b[0m\n\u001b[0m",
      "\u001b[0;31mNameError\u001b[0m: name 'pd' is not defined"
     ]
    }
   ],
   "source": [
    "data = pd.read_sql_query(query_last_month,engine)"
   ]
  },
  {
   "cell_type": "code",
   "execution_count": null,
   "id": "f2f2ae4f",
   "metadata": {},
   "outputs": [],
   "source": []
  }
 ],
 "metadata": {
  "kernelspec": {
   "display_name": "Python 3 (ipykernel)",
   "language": "python",
   "name": "python3"
  },
  "language_info": {
   "codemirror_mode": {
    "name": "ipython",
    "version": 3
   },
   "file_extension": ".py",
   "mimetype": "text/x-python",
   "name": "python",
   "nbconvert_exporter": "python",
   "pygments_lexer": "ipython3",
   "version": "3.9.7"
  },
  "toc": {
   "base_numbering": 1,
   "nav_menu": {},
   "number_sections": true,
   "sideBar": true,
   "skip_h1_title": false,
   "title_cell": "Table of Contents",
   "title_sidebar": "Contents",
   "toc_cell": true,
   "toc_position": {
    "height": "calc(100% - 180px)",
    "left": "10px",
    "top": "150px",
    "width": "165px"
   },
   "toc_section_display": true,
   "toc_window_display": true
  }
 },
 "nbformat": 4,
 "nbformat_minor": 5
}
